{
 "cells": [
  {
   "cell_type": "code",
   "execution_count": 2,
   "metadata": {},
   "outputs": [
    {
     "name": "stdout",
     "output_type": "stream",
     "text": [
      "\n",
      "> Init mask-drawing code\n"
     ]
    }
   ],
   "source": [
    "print('\\n> Init mask-drawing code')\n",
    "import base64, os\n",
    "from IPython.display import HTML, Image\n",
    "# from google.colab.output import eval_js\n",
    "from base64 import b64decode\n",
    "import matplotlib.pyplot as plt\n",
    "import numpy as np\n",
    "import wget\n",
    "from shutil import copyfile\n",
    "import shutil\n",
    "\n",
    "\n",
    "\n",
    "canvas_html = \"\"\"\n",
    "<style>\n",
    ".button {\n",
    "  background-color: #4CAF50;\n",
    "  border: none;\n",
    "  color: white;\n",
    "  padding: 15px 32px;\n",
    "  text-align: center;\n",
    "  text-decoration: none;\n",
    "  display: inline-block;\n",
    "  font-size: 16px;\n",
    "  margin: 4px 2px;\n",
    "  cursor: pointer;\n",
    "}\n",
    "</style>\n",
    "<canvas1 width=%d height=%d>\n",
    "</canvas1>\n",
    "<canvas width=%d height=%d>\n",
    "</canvas>\n",
    "\n",
    "<button class=\"button\">Finish</button>\n",
    "<script>\n",
    "var canvas = document.querySelector('canvas')\n",
    "var ctx = canvas.getContext('2d')\n",
    "\n",
    "var canvas1 = document.querySelector('canvas1')\n",
    "var ctx1 = canvas.getContext('2d')\n",
    "\n",
    "\n",
    "ctx.strokeStyle = 'red';\n",
    "\n",
    "var img = new Image();\n",
    "img.src = \"data:image/%s;charset=utf-8;base64,%s\";\n",
    "console.log(img)\n",
    "img.onload = function() {\n",
    "  ctx1.drawImage(img, 0, 0);\n",
    "};\n",
    "img.crossOrigin = 'Anonymous';\n",
    "\n",
    "ctx.clearRect(0, 0, canvas.width, canvas.height);\n",
    "\n",
    "ctx.lineWidth = %d\n",
    "var button = document.querySelector('button')\n",
    "var mouse = {x: 0, y: 0}\n",
    "\n",
    "canvas.addEventListener('mousemove', function(e) {\n",
    "  mouse.x = e.pageX - this.offsetLeft\n",
    "  mouse.y = e.pageY - this.offsetTop\n",
    "})\n",
    "canvas.onmousedown = ()=>{\n",
    "  ctx.beginPath()\n",
    "  ctx.moveTo(mouse.x, mouse.y)\n",
    "  canvas.addEventListener('mousemove', onPaint)\n",
    "}\n",
    "canvas.onmouseup = ()=>{\n",
    "  canvas.removeEventListener('mousemove', onPaint)\n",
    "}\n",
    "var onPaint = ()=>{\n",
    "  ctx.lineTo(mouse.x, mouse.y)\n",
    "  ctx.stroke()\n",
    "}\n",
    "\n",
    "var data = new Promise(resolve=>{\n",
    "  button.onclick = ()=>{\n",
    "    resolve(canvas.toDataURL('image/png'))\n",
    "  }\n",
    "})\n",
    "</script>\n",
    "\"\"\"\n",
    "\n",
    "def draw(imgm, filename='drawing.png', w=400, h=200, line_width=1):\n",
    "  display(HTML(canvas_html % (w, h, w,h, filename.split('.')[-1], imgm, line_width)))\n",
    "  data = eval_js(\"data\")\n",
    "  binary = b64decode(data.split(',')[1])\n",
    "  with open(filename, 'wb') as f:\n",
    "    f.write(binary)"
   ]
  },
  {
   "cell_type": "code",
   "execution_count": null,
   "metadata": {},
   "outputs": [],
   "source": []
  }
 ],
 "metadata": {
  "kernelspec": {
   "display_name": "Python 3.9.7 ('digi')",
   "language": "python",
   "name": "python3"
  },
  "language_info": {
   "codemirror_mode": {
    "name": "ipython",
    "version": 3
   },
   "file_extension": ".py",
   "mimetype": "text/x-python",
   "name": "python",
   "nbconvert_exporter": "python",
   "pygments_lexer": "ipython3",
   "version": "3.9.7"
  },
  "orig_nbformat": 4,
  "vscode": {
   "interpreter": {
    "hash": "e44bb8683751a126af8e68f4cbb0926dd7e4e0568000653a2c311af07eab1418"
   }
  }
 },
 "nbformat": 4,
 "nbformat_minor": 2
}
